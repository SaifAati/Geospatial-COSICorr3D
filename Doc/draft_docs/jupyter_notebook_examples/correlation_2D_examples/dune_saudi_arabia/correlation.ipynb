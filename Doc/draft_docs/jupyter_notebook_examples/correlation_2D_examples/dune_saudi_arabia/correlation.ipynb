{
 "cells": [
  {
   "cell_type": "markdown",
   "id": "b2e5c14b",
   "metadata": {},
   "source": [
    "# 2D Correlation map - Dune migration"
   ]
  },
  {
   "cell_type": "markdown",
   "id": "124630d3",
   "metadata": {},
   "source": [
    "## 1. Import Classes and functions"
   ]
  },
  {
   "cell_type": "code",
   "execution_count": 1,
   "id": "8e4ad400",
   "metadata": {},
   "outputs": [],
   "source": [
    "import os\n",
    "from geoCosiCorr3D.geoImageCorrelation.correlate import Correlate\n",
    "from geoCosiCorr3D.geoCosiCorr3dLogger import geoCosiCorr3DLog"
   ]
  },
  {
   "cell_type": "markdown",
   "id": "0ec23e6e",
   "metadata": {},
   "source": [
    "## 2. Folders"
   ]
  },
  {
   "cell_type": "markdown",
   "id": "6534102a",
   "metadata": {},
   "source": [
    "#### geoCosiCorr3Dlog(“image_correlation”): \n",
    "Creates a file image_correlation_date_hour.log in\n",
    "GEO_COSI_CORR_3D_WD with information about the coding process."
   ]
  },
  {
   "cell_type": "code",
   "execution_count": 2,
   "id": "e6f4422b",
   "metadata": {},
   "outputs": [
    {
     "data": {
      "text/plain": [
       "<geoCosiCorr3D.geoCosiCorr3dLogger.geoCosiCorr3DLog at 0x7f45d6a37990>"
      ]
     },
     "execution_count": 2,
     "metadata": {},
     "output_type": "execute_result"
    }
   ],
   "source": [
    "geoCosiCorr3DLog(\"image_correlation\")"
   ]
  },
  {
   "cell_type": "code",
   "execution_count": 3,
   "id": "6bf40182",
   "metadata": {},
   "outputs": [],
   "source": [
    "folder = '/home/mcadoux/PycharmProjects/Geospatial-COSICorr3D/geoCosiCorr3D_examples/correlation_2D_examples/dune_saudi_arabia/Corr_sample'"
   ]
  },
  {
   "cell_type": "markdown",
   "id": "44815977",
   "metadata": {},
   "source": [
    "#### Img1 = os.path.join(folder, “T40QBK_20171225T065259_B08.jp2”) \n",
    "Assigns to Img1 the oldest image we want to correlate: “base image”. Here, a Sentinel 2 image is used."
   ]
  },
  {
   "cell_type": "code",
   "execution_count": 4,
   "id": "2e79822a",
   "metadata": {},
   "outputs": [],
   "source": [
    "img1 = os.path.join(folder, \"T40QBK_20171225T065259_B08.jp2\")"
   ]
  },
  {
   "cell_type": "markdown",
   "id": "cd2a0e56",
   "metadata": {},
   "source": [
    "#### Img2 = os.path.join(folder, “T40QBK_20181225T065301_B08.jp2”) : \n",
    "assigns to Img2 the youngest image we want to correlate: “target image”. Here, a Sentinel 2 image is used."
   ]
  },
  {
   "cell_type": "code",
   "execution_count": 5,
   "id": "0c6c8f7f",
   "metadata": {},
   "outputs": [],
   "source": [
    "img2 = os.path.join(folder, \"T40QBK_20181225T065301_B08.jp2\")"
   ]
  },
  {
   "cell_type": "markdown",
   "id": "e345bdc5",
   "metadata": {},
   "source": [
    "## 3. Parameters"
   ]
  },
  {
   "cell_type": "markdown",
   "id": "d957c543",
   "metadata": {},
   "source": [
    "The third part of the code consists of writing the parameters of the correlation. By changing these\n",
    "parameters we will get different results. Depending on the correlator_name (frequency or spatial), the\n",
    "code is different. glacier_jakobshavn and dune_saudi_arabia use frequency correlator and\n",
    "earthquake_ridgecrest uses spatial correlator."
   ]
  },
  {
   "cell_type": "markdown",
   "id": "4d716499",
   "metadata": {},
   "source": [
    "### 1. correlator_name\n",
    "Write the correlation method used to correlate the images. Two correlators are available: “frequency” or “spatial”.\n",
    "#### (a) frequency\n",
    "The frequency correlator is Fourier based and is more accurate and faster than\n",
    "the spatial one. It should be used as a priority when correlating optical images and if we are\n",
    "processing a large data cube of images. However, this correlator is more sensitive to noise\n",
    "and is therefore recommended for optical images of good quality (Ayoub et al., 2017).\n",
    "#### (b) spatial \n",
    "The spatial correlator maximizes the absolute value of the correlation coefficient\n",
    "and is coarser but more robust than the frequency one. Its use is recommended for\n",
    "correlating noisy optical images that provided bad results with the frequency correlator, or\n",
    "for correlating images of different content such as an optical image with a shaded DEM\n",
    "(Ayoub et al., 2017)."
   ]
  },
  {
   "cell_type": "markdown",
   "id": "9f4abed7",
   "metadata": {},
   "source": [
    "### 2. correlator_params\n",
    "Write the different parameters of the correlation.\n",
    "#### (a) window_size\n",
    "Write the initial window size (pixel number). The initial window size\n",
    "maximizes the correlation between the base and the target image. In theory, the window\n",
    "size should be at least twice the expected displacement, but in practice (Ayoub et al., 2017),\n",
    "we recommend a ratio of 64 to not waste lots of time (the larger the ratio, the longer the\n",
    "correlation). From the experiment, we can also choose a ratio of 128 or 256 to get a good\n",
    "result but it takes lots of time.\n",
    "#### (b) step\n",
    "Write the step in the direction X and Y [X, Y]. This parameter determines the step\n",
    "in the X and Y direction, in pixels, between two sliding windows. If the step is greater or\n",
    "equal to the final window size, then all measurements are independent (Ayoub et al., 2017).\n",
    "#### (c) grid \n",
    "Write “True” if you want this option or “False” if you don’t want it. By writing\n",
    "“True” COSI-Corr will obtain a displacement map with the top-left corner coordinates to\n",
    "be integer multiple of the ground resolution. This is most useful when several correlations\n",
    "of the same area need to be overlaid or mosaiced. If unchecked the top-left corner\n",
    "coordinates of the displacement map will be identical to the top-left corner coordinates of\n",
    "the master image (Ayoub et al., 2017).\n",
    "#### (d) mask_th (Mask Threshold)\n",
    "Write the mask threshold. This parameter allows the masking\n",
    "of the frequencies according to the amplitude of the log-cross-spectrum (Ayoub et al.,\n",
    "2017). A value close to unity is appropriate in most cases (Leprince et al., 2007).\n",
    "#### (e) nb_iters (Iteration)\n",
    "Write the iteration. This is the number of times per measurement the\n",
    "frequency mask should be adaptively re-computed. The mask contributes to reducing the\n",
    "noise on the measurements (Ayoub et al., 2017). 2 to 4 iterations are satisfying in most\n",
    "cases (Leprince et al., 2007)."
   ]
  },
  {
   "cell_type": "code",
   "execution_count": 6,
   "id": "8fe28cdc",
   "metadata": {},
   "outputs": [],
   "source": [
    "corr_config = {\"correlator_name\": \"frequency\",\n",
    "               \"correlator_params\": {\n",
    "                   \"window_size\": [64, 64, 64, 64],\n",
    "                   \"step\": [4, 4],\n",
    "                   \"grid\": True,\n",
    "                   \"mask_th\": 0.97,\n",
    "                   \"nb_iters\": 4\n",
    "               }\n",
    "               }"
   ]
  },
  {
   "cell_type": "markdown",
   "id": "6134347d",
   "metadata": {},
   "source": [
    "## 4. Running the code"
   ]
  },
  {
   "cell_type": "code",
   "execution_count": 8,
   "id": "85227648",
   "metadata": {},
   "outputs": [
    {
     "name": "stdout",
     "output_type": "stream",
     "text": [
      "2023-08-08 14:48:37,136 [INFO] Correlation engine:frequency , params:{'window_size': [64, 64, 64, 64], 'step': [4, 4], 'mask_th': 0.97, 'resampling': False, 'nb_iter': 4, 'grid': True}\n",
      "2023-08-08 14:48:41,437 [INFO] corr margins: [32, 32]\n",
      "2023-08-08 14:48:41,441 [INFO] Correlate:correlation margins:[32, 32]\n",
      "2023-08-08 14:48:41,442 [WARNING] === Images have the same GSD:10.0 ===\n",
      "2023-08-08 14:48:41,443 [INFO] winAreaX:.128, winAreaX:.128\n",
      "2023-08-08 14:48:41,444 [INFO] tCols:2713, tRows:2713\n",
      "2023-08-08 14:48:41,444 [INFO] base dims pix: [-1, 2, 10979, 2, 10979]\n",
      "2023-08-08 14:48:41,445 [INFO] target dims pix: [-1, 2, 10979, 2, 10979]\n",
      "2023-08-08 14:48:41,445 [INFO] nbColImg: 10978 || nbRowImg: 10978\n",
      "2023-08-08 14:48:41,446 [INFO] maxRowsROI:6113\n",
      "2023-08-08 14:48:41,447 [INFO] nbROI: 1 || nbCorrRowPerROI: 1497 || nbCorrColPerROI: 2713\n",
      "2023-08-08 14:48:41,448 [INFO] nbRowsLeft:4866\n"
     ]
    },
    {
     "name": "stderr",
     "output_type": "stream",
     "text": [
      "\r",
      "Correlation per tile:   0%|                               | 0/2 [00:00<?, ?it/s]"
     ]
    },
    {
     "name": "stdout",
     "output_type": "stream",
     "text": [
      "2023-08-08 14:48:41,499 [INFO] Tile:1/2 \n",
      "2023-08-08 14:48:41,500 [INFO] base tile dims :[   -1     2 10979     2  6113]\n",
      "2023-08-08 14:48:41,500 [INFO] target tile info:[   -1     2 10979     2  6113]\n",
      "2023-08-08 14:48:43,189 [INFO] baseSubset.size:(6112, 10978) \n",
      "2023-08-08 14:48:43,190 [INFO] targetSubset.size:(6112, 10978) \n"
     ]
    },
    {
     "name": "stderr",
     "output_type": "stream",
     "text": [
      "\r",
      "Correlation per tile:  50%|███████████           | 1/2 [04:49<04:49, 289.82s/it]"
     ]
    },
    {
     "name": "stdout",
     "output_type": "stream",
     "text": [
      "2023-08-08 14:53:31,319 [INFO] Tile:2/2 \n",
      "2023-08-08 14:53:31,321 [INFO] base tile dims :[   -1     2 10979  5990 10977]\n",
      "2023-08-08 14:53:31,321 [INFO] target tile info:[   -1     2 10979  5990 10977]\n",
      "2023-08-08 14:53:32,798 [INFO] baseSubset.size:(4988, 10978) \n",
      "2023-08-08 14:53:32,799 [INFO] targetSubset.size:(4988, 10978) \n",
      "2023-08-08 14:53:32,799 [INFO] --- LAST TILE ----\n"
     ]
    },
    {
     "name": "stderr",
     "output_type": "stream",
     "text": [
      "Correlation per tile: 100%|██████████████████████| 2/2 [08:34<00:00, 257.18s/it]"
     ]
    },
    {
     "name": "stdout",
     "output_type": "stream",
     "text": [
      "2023-08-08 14:57:15,894 [INFO] correlation geo. transformation :[200640.0, 40.0, 0, 2499360.0, 0, -40.0]\n"
     ]
    },
    {
     "name": "stderr",
     "output_type": "stream",
     "text": [
      "\n"
     ]
    },
    {
     "name": "stdout",
     "output_type": "stream",
     "text": [
      "2023-08-08 14:57:19,504 [INFO] Correlate: Plotting correlation results\n"
     ]
    },
    {
     "name": "stderr",
     "output_type": "stream",
     "text": [
      "/home/mcadoux/PycharmProjects/Geospatial-COSICorr3D/geoCosiCorr3D/geoImageCorrelation/correlate.py:336: UserWarning: This figure includes Axes that are not compatible with tight_layout, so results might be incorrect.\n",
      "  fig.tight_layout(pad=BORDER_PAD)  ##pad=4, w_pad=5, )\n"
     ]
    }
   ],
   "source": [
    "correlation = Correlate(base_image_path=img1,\n",
    "                        target_image_path=img2,\n",
    "                        base_band=1,\n",
    "                        target_band=1,\n",
    "                        output_corr_path=folder,\n",
    "                        corr_config=corr_config,\n",
    "                        corr_show=True)"
   ]
  }
 ],
 "metadata": {
  "kernelspec": {
   "display_name": "Python 3 (ipykernel)",
   "language": "python",
   "name": "python3"
  },
  "language_info": {
   "codemirror_mode": {
    "name": "ipython",
    "version": 3
   },
   "file_extension": ".py",
   "mimetype": "text/x-python",
   "name": "python",
   "nbconvert_exporter": "python",
   "pygments_lexer": "ipython3",
   "version": "3.7.15"
  }
 },
 "nbformat": 4,
 "nbformat_minor": 5
}
