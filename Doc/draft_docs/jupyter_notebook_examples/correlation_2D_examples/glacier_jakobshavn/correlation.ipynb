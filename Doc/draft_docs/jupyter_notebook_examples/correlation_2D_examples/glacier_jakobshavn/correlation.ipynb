{
 "cells": [
  {
   "cell_type": "markdown",
   "id": "4efb7236",
   "metadata": {},
   "source": [
    "# 2D Correlation map - Ice Flow"
   ]
  },
  {
   "cell_type": "markdown",
   "id": "f3a1617d",
   "metadata": {},
   "source": [
    "## 1. Import classes and functions"
   ]
  },
  {
   "cell_type": "code",
   "execution_count": 1,
   "id": "42a3b48b",
   "metadata": {},
   "outputs": [],
   "source": [
    "import os\n",
    "from geoCosiCorr3D.geoImageCorrelation.correlate import Correlate\n",
    "from geoCosiCorr3D.geoCosiCorr3dLogger import geoCosiCorr3DLog"
   ]
  },
  {
   "cell_type": "markdown",
   "id": "554f85c1",
   "metadata": {},
   "source": [
    "## 2. Folders"
   ]
  },
  {
   "cell_type": "markdown",
   "id": "94c3ce85",
   "metadata": {},
   "source": [
    "#### geoCosiCorr3Dlog(“image_correlation”): \n",
    "Creates a file image_correlation_date_hour.log in\n",
    "GEO_COSI_CORR_3D_WD with information about the coding process."
   ]
  },
  {
   "cell_type": "code",
   "execution_count": 2,
   "id": "cf3c7c42",
   "metadata": {},
   "outputs": [
    {
     "data": {
      "text/plain": [
       "<geoCosiCorr3D.geoCosiCorr3dLogger.geoCosiCorr3DLog at 0x7fbf41fe6890>"
      ]
     },
     "execution_count": 2,
     "metadata": {},
     "output_type": "execute_result"
    }
   ],
   "source": [
    "geoCosiCorr3DLog(\"image_correlation\")"
   ]
  },
  {
   "cell_type": "code",
   "execution_count": 3,
   "id": "5ea0a00f",
   "metadata": {},
   "outputs": [],
   "source": [
    "folder = '/home/mcadoux/PycharmProjects/Geospatial-COSICorr3D/geoCosiCorr3D_examples/correlation_2D_examples/glacier_jakobshavn/Corr_sample'"
   ]
  },
  {
   "cell_type": "markdown",
   "id": "da60cb5d",
   "metadata": {},
   "source": [
    "#### Img1 = os.path.join(folder, \"LC08_L1TP_009011_20230306_20230316_02_T1_B8.TIF\") \n",
    "Assigns to Img1 the oldest image we want to correlate: “base image”. Here, a Landsat 8 image is used."
   ]
  },
  {
   "cell_type": "code",
   "execution_count": 4,
   "id": "c33678ab",
   "metadata": {},
   "outputs": [],
   "source": [
    "img1 = os.path.join(folder, \"LC08_L1TP_009011_20230306_20230316_02_T1_B8.TIF\")"
   ]
  },
  {
   "cell_type": "markdown",
   "id": "a302f076",
   "metadata": {},
   "source": [
    "#### Img2 = os.path.join(folder, “LC09_L1TP_009011_20230314_20230314_02_T1_B8.TIF”) : \n",
    "assigns to Img2 the youngest image we want to correlate: “target image”. Here, a Landsat 9 image is used."
   ]
  },
  {
   "cell_type": "code",
   "execution_count": 5,
   "id": "591397c5",
   "metadata": {},
   "outputs": [],
   "source": [
    "img2 = os.path.join(folder, \"LC09_L1TP_009011_20230314_20230314_02_T1_B8.TIF\")"
   ]
  },
  {
   "cell_type": "markdown",
   "id": "a80b2c88",
   "metadata": {},
   "source": [
    "## 3. Parameters"
   ]
  },
  {
   "cell_type": "markdown",
   "id": "e9cdb4c8",
   "metadata": {},
   "source": [
    "The third part of the code consists of writing the parameters of the correlation. By changing these\n",
    "parameters we will get different results. Depending on the correlator_name (frequency or spatial), the\n",
    "code is different. glacier_jakobshavn and dune_saudi_arabia use frequency correlator and\n",
    "earthquake_ridgecrest uses spatial correlator."
   ]
  },
  {
   "cell_type": "markdown",
   "id": "4cbbd13d",
   "metadata": {},
   "source": [
    "### 1. correlator_name\n",
    "Write the correlation method used to correlate the images. Two correlators are available: “frequency” or “spatial”.\n",
    "#### (a) frequency\n",
    "The frequency correlator is Fourier based and is more accurate and faster than\n",
    "the spatial one. It should be used as a priority when correlating optical images and if we are\n",
    "processing a large data cube of images. However, this correlator is more sensitive to noise\n",
    "and is therefore recommended for optical images of good quality (Ayoub et al., 2017).\n",
    "#### (b) spatial \n",
    "The spatial correlator maximizes the absolute value of the correlation coefficient\n",
    "and is coarser but more robust than the frequency one. Its use is recommended for\n",
    "correlating noisy optical images that provided bad results with the frequency correlator, or\n",
    "for correlating images of different content such as an optical image with a shaded DEM\n",
    "(Ayoub et al., 2017)."
   ]
  },
  {
   "cell_type": "markdown",
   "id": "c1b2844c",
   "metadata": {},
   "source": [
    "### 2. correlator_params\n",
    "Write the different parameters of the correlation.\n",
    "#### (a) window_size\n",
    "Write the initial window size (pixel number). The initial window size\n",
    "maximizes the correlation between the base and the target image. In theory, the window\n",
    "size should be at least twice the expected displacement, but in practice (Ayoub et al., 2017),\n",
    "we recommend a ratio of 64 to not waste lots of time (the larger the ratio, the longer the\n",
    "correlation). From the experiment, we can also choose a ratio of 128 or 256 to get a good\n",
    "result but it takes lots of time.\n",
    "#### (b) step\n",
    "Write the step in the direction X and Y [X, Y]. This parameter determines the step\n",
    "in the X and Y direction, in pixels, between two sliding windows. If the step is greater or\n",
    "equal to the final window size, then all measurements are independent (Ayoub et al., 2017).\n",
    "#### (c) grid \n",
    "Write “True” if you want this option or “False” if you don’t want it. By writing\n",
    "“True” COSI-Corr will obtain a displacement map with the top-left corner coordinates to\n",
    "be integer multiple of the ground resolution. This is most useful when several correlations\n",
    "of the same area need to be overlaid or mosaiced. If unchecked the top-left corner\n",
    "coordinates of the displacement map will be identical to the top-left corner coordinates of\n",
    "the master image (Ayoub et al., 2017).\n",
    "#### (d) mask_th (Mask Threshold)\n",
    "Write the mask threshold. This parameter allows the masking\n",
    "of the frequencies according to the amplitude of the log-cross-spectrum (Ayoub et al.,\n",
    "2017). A value close to unity is appropriate in most cases (Leprince et al., 2007).\n",
    "#### (e) nb_iters (Iteration)\n",
    "Write the iteration. This is the number of times per measurement the\n",
    "frequency mask should be adaptively re-computed. The mask contributes to reducing the\n",
    "noise on the measurements (Ayoub et al., 2017). 2 to 4 iterations are satisfying in most\n",
    "cases (Leprince et al., 2007)."
   ]
  },
  {
   "cell_type": "code",
   "execution_count": 6,
   "id": "18cc6c27",
   "metadata": {},
   "outputs": [],
   "source": [
    "corr_config = {\"correlator_name\": \"frequency\",\n",
    "               \"correlator_params\": {\n",
    "                   \"window_size\": [64, 64, 64, 64],\n",
    "                   \"step\": [4, 4],\n",
    "                   \"grid\": False,\n",
    "                   \"mask_th\": 0.97,\n",
    "                   \"nb_iters\": 4\n",
    "               }\n",
    "               }"
   ]
  },
  {
   "cell_type": "markdown",
   "id": "30988f67",
   "metadata": {},
   "source": [
    "## 4. Running the code"
   ]
  },
  {
   "cell_type": "code",
   "execution_count": 7,
   "id": "9829fc69",
   "metadata": {},
   "outputs": [
    {
     "name": "stdout",
     "output_type": "stream",
     "text": [
      "2023-08-08 15:00:49,274 [INFO] Correlation engine:frequency , params:{'window_size': [64, 64, 64, 64], 'step': [4, 4], 'mask_th': 0.97, 'resampling': False, 'nb_iter': 4, 'grid': False}\n",
      "2023-08-08 15:00:56,854 [INFO] corr margins: [32, 32]\n",
      "2023-08-08 15:00:56,857 [INFO] Correlate:correlation margins:[32, 32]\n",
      "2023-08-08 15:00:56,858 [WARNING] === Images have the same GSD:15.0 ===\n",
      "2023-08-08 15:00:56,858 [INFO] winAreaX:.128, winAreaX:.128\n",
      "2023-08-08 15:00:56,859 [INFO] tCols:4236, tRows:4276\n",
      "2023-08-08 15:00:56,860 [INFO] borderColLeft:16, borderRowTop:16\n",
      "2023-08-08 15:00:56,860 [INFO] nbCorrCol:4204, nbCorrRow:4244\n",
      "2023-08-08 15:00:56,861 [INFO] borderColRight:16, borderRowBottom:16\n",
      "2023-08-08 15:00:56,864 [INFO] base dims pix: [-1, 0, 16940, 20, 17120]\n",
      "2023-08-08 15:00:56,864 [INFO] target dims pix: [-1, 100, 17040, 0, 17100]\n",
      "2023-08-08 15:00:56,865 [INFO] nbColImg: 16941 || nbRowImg: 17101\n",
      "2023-08-08 15:00:56,865 [INFO] maxRowsROI:3961\n",
      "2023-08-08 15:00:56,866 [INFO] nbROI: 4 || nbCorrRowPerROI: 959 || nbCorrColPerROI: 4204\n",
      "2023-08-08 15:00:56,866 [INFO] nbRowsLeft:1633\n"
     ]
    },
    {
     "name": "stderr",
     "output_type": "stream",
     "text": [
      "\r",
      "Correlation per tile:   0%|                               | 0/5 [00:00<?, ?it/s]"
     ]
    },
    {
     "name": "stdout",
     "output_type": "stream",
     "text": [
      "2023-08-08 15:00:56,895 [INFO] Tile:1/5 \n",
      "2023-08-08 15:00:56,895 [INFO] base tile dims :[   -1     0 16940    20  3979]\n",
      "2023-08-08 15:00:56,896 [INFO] target tile info:[   -1   100 17040     0  3959]\n",
      "2023-08-08 15:00:57,911 [INFO] baseSubset.size:(3960, 16941) \n",
      "2023-08-08 15:00:57,911 [INFO] targetSubset.size:(3960, 16941) \n"
     ]
    },
    {
     "name": "stderr",
     "output_type": "stream",
     "text": [
      "\r",
      "Correlation per tile:  20%|████▍                 | 1/5 [01:47<07:08, 107.18s/it]"
     ]
    },
    {
     "name": "stdout",
     "output_type": "stream",
     "text": [
      "2023-08-08 15:02:44,083 [INFO] Tile:2/5 \n",
      "2023-08-08 15:02:44,084 [INFO] base tile dims :[   -1     0 16940  3856  7815]\n",
      "2023-08-08 15:02:44,085 [INFO] target tile info:[   -1   100 17040  3836  7795]\n",
      "2023-08-08 15:02:45,724 [INFO] baseSubset.size:(3960, 16941) \n",
      "2023-08-08 15:02:45,725 [INFO] targetSubset.size:(3960, 16941) \n"
     ]
    },
    {
     "name": "stderr",
     "output_type": "stream",
     "text": [
      "\r",
      "Correlation per tile:  40%|████████▊             | 2/5 [05:29<08:44, 174.84s/it]"
     ]
    },
    {
     "name": "stdout",
     "output_type": "stream",
     "text": [
      "2023-08-08 15:06:26,280 [INFO] Tile:3/5 \n",
      "2023-08-08 15:06:26,282 [INFO] base tile dims :[   -1     0 16940  7692 11651]\n",
      "2023-08-08 15:06:26,282 [INFO] target tile info:[   -1   100 17040  7672 11631]\n",
      "2023-08-08 15:06:27,909 [INFO] baseSubset.size:(3960, 16941) \n",
      "2023-08-08 15:06:27,909 [INFO] targetSubset.size:(3960, 16941) \n"
     ]
    },
    {
     "name": "stderr",
     "output_type": "stream",
     "text": [
      "\r",
      "Correlation per tile:  60%|█████████████▏        | 3/5 [09:29<06:48, 204.50s/it]"
     ]
    },
    {
     "name": "stdout",
     "output_type": "stream",
     "text": [
      "2023-08-08 15:10:26,068 [INFO] Tile:4/5 \n",
      "2023-08-08 15:10:26,069 [INFO] base tile dims :[   -1     0 16940 11528 15487]\n",
      "2023-08-08 15:10:26,070 [INFO] target tile info:[   -1   100 17040 11508 15467]\n",
      "2023-08-08 15:10:27,377 [INFO] baseSubset.size:(3960, 16941) \n",
      "2023-08-08 15:10:27,378 [INFO] targetSubset.size:(3960, 16941) \n"
     ]
    },
    {
     "name": "stderr",
     "output_type": "stream",
     "text": [
      "\r",
      "Correlation per tile:  80%|█████████████████▌    | 4/5 [12:10<03:07, 187.62s/it]"
     ]
    },
    {
     "name": "stdout",
     "output_type": "stream",
     "text": [
      "2023-08-08 15:13:07,820 [INFO] Tile:5/5 \n",
      "2023-08-08 15:13:07,821 [INFO] base tile dims :[   -1     0 16940 15364 17119]\n",
      "2023-08-08 15:13:07,822 [INFO] target tile info:[   -1   100 17040 15344 17099]\n",
      "2023-08-08 15:13:08,229 [INFO] baseSubset.size:(1756, 16941) \n",
      "2023-08-08 15:13:08,230 [INFO] targetSubset.size:(1756, 16941) \n",
      "2023-08-08 15:13:08,231 [INFO] --- LAST TILE ----\n"
     ]
    },
    {
     "name": "stderr",
     "output_type": "stream",
     "text": [
      "Correlation per tile: 100%|██████████████████████| 5/5 [12:37<00:00, 151.44s/it]\n"
     ]
    },
    {
     "name": "stdout",
     "output_type": "stream",
     "text": [
      "2023-08-08 15:13:34,771 [INFO] correlation geo. transformation :[434092.5, 60.0, 0, 7850407.5, 0, -60.0]\n",
      "2023-08-08 15:13:39,943 [INFO] Correlate: Plotting correlation results\n"
     ]
    },
    {
     "name": "stderr",
     "output_type": "stream",
     "text": [
      "/home/mcadoux/PycharmProjects/Geospatial-COSICorr3D/geoCosiCorr3D/geoImageCorrelation/correlate.py:336: UserWarning: This figure includes Axes that are not compatible with tight_layout, so results might be incorrect.\n",
      "  fig.tight_layout(pad=BORDER_PAD)  ##pad=4, w_pad=5, )\n"
     ]
    }
   ],
   "source": [
    "correlation = Correlate(base_image_path=img1,\n",
    "                        target_image_path=img2,\n",
    "                        base_band=1,\n",
    "                        target_band=1,\n",
    "                        output_corr_path=folder,\n",
    "                        corr_config=corr_config,\n",
    "                        corr_show=True)"
   ]
  }
 ],
 "metadata": {
  "kernelspec": {
   "display_name": "Python 3 (ipykernel)",
   "language": "python",
   "name": "python3"
  },
  "language_info": {
   "codemirror_mode": {
    "name": "ipython",
    "version": 3
   },
   "file_extension": ".py",
   "mimetype": "text/x-python",
   "name": "python",
   "nbconvert_exporter": "python",
   "pygments_lexer": "ipython3",
   "version": "3.7.15"
  }
 },
 "nbformat": 4,
 "nbformat_minor": 5
}
