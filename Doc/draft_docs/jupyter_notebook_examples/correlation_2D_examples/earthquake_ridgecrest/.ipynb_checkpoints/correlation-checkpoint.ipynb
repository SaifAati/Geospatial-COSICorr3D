{
 "cells": [
  {
   "cell_type": "markdown",
   "id": "98898772",
   "metadata": {},
   "source": [
    "# 2D Correlation map - Earthquake"
   ]
  },
  {
   "cell_type": "markdown",
   "id": "96d51dac",
   "metadata": {},
   "source": [
    "## 1. Import classes and functions"
   ]
  },
  {
   "cell_type": "code",
   "execution_count": 1,
   "id": "5b1aab16",
   "metadata": {},
   "outputs": [],
   "source": [
    "import os\n",
    "from geoCosiCorr3D.geoImageCorrelation.correlate import Correlate\n",
    "from geoCosiCorr3D.geoCosiCorr3dLogger import geoCosiCorr3DLog"
   ]
  },
  {
   "cell_type": "markdown",
   "id": "00fa446f",
   "metadata": {},
   "source": [
    "## 2. Folders"
   ]
  },
  {
   "cell_type": "markdown",
   "id": "1066eb06",
   "metadata": {},
   "source": [
    "#### geoCosiCorr3Dlog(“image_correlation”): \n",
    "Creates a file image_correlation_date_hour.log in\n",
    "GEO_COSI_CORR_3D_WD with information about the coding process."
   ]
  },
  {
   "cell_type": "code",
   "execution_count": 2,
   "id": "104e33f3",
   "metadata": {},
   "outputs": [
    {
     "data": {
      "text/plain": [
       "<geoCosiCorr3D.geoCosiCorr3dLogger.geoCosiCorr3DLog at 0x7fd0b09b7f50>"
      ]
     },
     "execution_count": 2,
     "metadata": {},
     "output_type": "execute_result"
    }
   ],
   "source": [
    "geoCosiCorr3DLog(\"image_correlation\")"
   ]
  },
  {
   "cell_type": "code",
   "execution_count": 3,
   "id": "03eafadc",
   "metadata": {},
   "outputs": [],
   "source": [
    "folder = '/home/mcadoux/PycharmProjects/Geospatial-COSICorr3D/geoCosiCorr3D_examples/correlation_2D_examples/earthquake_ridgecrest/Corr_sample'"
   ]
  },
  {
   "cell_type": "markdown",
   "id": "b3ab74bc",
   "metadata": {},
   "source": [
    "#### Img1 = os.path.join(folder, “m_3511712_sw_060_20180818.tif”) \n",
    "Assigns to Img1 the oldest image we want to correlate: “base image”. Here, a NAIP image is used."
   ]
  },
  {
   "cell_type": "code",
   "execution_count": 4,
   "id": "33bfd029",
   "metadata": {},
   "outputs": [],
   "source": [
    "img1 = os.path.join(folder, \"m_3511712_sw_11_060_20180818.tif\")"
   ]
  },
  {
   "cell_type": "markdown",
   "id": "e5d016b1",
   "metadata": {},
   "source": [
    "#### Img2 = os.path.join(folder, “m_3511712_sw_060_20200620.tif”) : \n",
    "assigns to Img2 the youngest image we want to correlate: “target image”. Here, a NAIP image is used."
   ]
  },
  {
   "cell_type": "code",
   "execution_count": 5,
   "id": "bbe3e179",
   "metadata": {},
   "outputs": [],
   "source": [
    "img2 = os.path.join(folder, \"m_3511712_sw_11_060_20200620.tif\")"
   ]
  },
  {
   "cell_type": "markdown",
   "id": "122c9762",
   "metadata": {},
   "source": [
    "## 3. Parameters"
   ]
  },
  {
   "cell_type": "markdown",
   "id": "e7eea1de",
   "metadata": {},
   "source": [
    "The third part of the code consists of writing the parameters of the correlation. By changing these\n",
    "parameters we will get different results. Depending on the correlator_name (frequency or spatial), the\n",
    "code is different. glacier_jakobshavn and dune_saudi_arabia use frequency correlator and\n",
    "earthquake_ridgecrest uses spatial correlator."
   ]
  },
  {
   "cell_type": "markdown",
   "id": "ba6dcdd4",
   "metadata": {},
   "source": [
    "### 1. correlator_name\n",
    "Write the correlation method used to correlate the images. Two correlators are available: “frequency” or “spatial”.\n",
    "#### (a) frequency\n",
    "The frequency correlator is Fourier based and is more accurate and faster than\n",
    "the spatial one. It should be used as a priority when correlating optical images and if we are\n",
    "processing a large data cube of images. However, this correlator is more sensitive to noise\n",
    "and is therefore recommended for optical images of good quality (Ayoub et al., 2017).\n",
    "#### (b) spatial \n",
    "The spatial correlator maximizes the absolute value of the correlation coefficient\n",
    "and is coarser but more robust than the frequency one. Its use is recommended for\n",
    "correlating noisy optical images that provided bad results with the frequency correlator, or\n",
    "for correlating images of different content such as an optical image with a shaded DEM\n",
    "(Ayoub et al., 2017)."
   ]
  },
  {
   "cell_type": "markdown",
   "id": "640e1414",
   "metadata": {},
   "source": [
    "### 2. correlator_params\n",
    "Write the different parameters of the correlation.\n",
    "#### (a) window_size\n",
    "Write the initial window size (pixel number). The initial window size\n",
    "maximizes the correlation between the base and the target image. In theory, the window\n",
    "size should be at least twice the expected displacement, but in practice (Ayoub et al., 2017),\n",
    "we recommend a ratio of 64 to not waste lots of time (the larger the ratio, the longer the\n",
    "correlation). From the experiment, we can also choose a ratio of 128 or 256 to get a good\n",
    "result but it takes lots of time.\n",
    "#### (b) step\n",
    "Write the step in the direction X and Y [X, Y]. This parameter determines the step\n",
    "in the X and Y direction, in pixels, between two sliding windows. If the step is greater or\n",
    "equal to the final window size, then all measurements are independent (Ayoub et al., 2017).\n",
    "#### (c) grid \n",
    "Write “True” if you want this option or “False” if you don’t want it. By writing\n",
    "“True” COSI-Corr will obtain a displacement map with the top-left corner coordinates to\n",
    "be integer multiple of the ground resolution. This is most useful when several correlations\n",
    "of the same area need to be overlaid or mosaiced. If unchecked the top-left corner\n",
    "coordinates of the displacement map will be identical to the top-left corner coordinates of\n",
    "the master image (Ayoub et al., 2017).\n",
    "#### (d) search_range\n",
    "Write the search range in the direction X and Y [X, Y]. It corresponds to\n",
    "the maximum distance in X and Y directions in pixels where the displacements to measure\n",
    "are to be searched (Ayoub et al., 2017)."
   ]
  },
  {
   "cell_type": "code",
   "execution_count": 6,
   "id": "9526d9b2",
   "metadata": {},
   "outputs": [],
   "source": [
    "corr_config = {\"correlator_name\": \"spatial\",\n",
    "               \"correlator_params\": {\n",
    "                   \"window_size\": 4 * [64],\n",
    "                   \"step\": [16, 16],\n",
    "                   \"grid\": True,\n",
    "                   \"search_range\": [10, 10]\n",
    "               }\n",
    "               }"
   ]
  },
  {
   "cell_type": "markdown",
   "id": "09743636",
   "metadata": {},
   "source": [
    "## 4. Running the code"
   ]
  },
  {
   "cell_type": "code",
   "execution_count": 7,
   "id": "440d5ac2",
   "metadata": {},
   "outputs": [
    {
     "name": "stdout",
     "output_type": "stream",
     "text": [
      "2023-08-08 14:58:48,569 [INFO] Correlation engine:spatial , params:{'window_size': [64, 64, 64, 64], 'step': [16, 16], 'search_range': [10, 10], 'grid': True}\n",
      "2023-08-08 14:58:49,277 [WARNING] CPLE_AppDefined in /home/mcadoux/PycharmProjects/Geospatial-COSICorr3D/geoCosiCorr3D_examples/correlation_2D_examples/earthquake_ridgecrest/Corr_sample/m_3511712_sw_11_060_20200620.tif: TIFFReadDirectory:Sum of Photometric type-related color channels and ExtraSamples doesn't match SamplesPerPixel. Defining non-color channels as ExtraSamples.\n"
     ]
    },
    {
     "name": "stderr",
     "output_type": "stream",
     "text": [
      "Warning 1: TIFFReadDirectory:Sum of Photometric type-related color channels and ExtraSamples doesn't match SamplesPerPixel. Defining non-color channels as ExtraSamples.\n"
     ]
    },
    {
     "name": "stdout",
     "output_type": "stream",
     "text": [
      "2023-08-08 14:58:53,788 [INFO] Correlate:correlation margins:[10, 10]\n",
      "2023-08-08 14:58:53,789 [WARNING] === Images have the same GSD:0.6 ===\n",
      "2023-08-08 14:58:53,790 [INFO] winAreaX:.84, winAreaX:.84\n",
      "2023-08-08 14:58:53,791 [INFO] tCols:620, tRows:752\n",
      "2023-08-08 14:58:53,791 [INFO] base dims pix: [-1, 2, 9989, 8, 12119]\n",
      "2023-08-08 14:58:53,792 [INFO] target dims pix: [-1, 82, 10069, 88, 12199]\n",
      "2023-08-08 14:58:53,792 [INFO] nbColImg: 9988 || nbRowImg: 12112\n",
      "2023-08-08 14:58:53,793 [INFO] maxRowsROI:6718\n",
      "2023-08-08 14:58:53,793 [INFO] nbROI: 1 || nbCorrRowPerROI: 415 || nbCorrColPerROI: 620\n",
      "2023-08-08 14:58:53,794 [INFO] nbRowsLeft:5404\n"
     ]
    },
    {
     "name": "stderr",
     "output_type": "stream",
     "text": [
      "\r",
      "Correlation per tile:   0%|                               | 0/2 [00:00<?, ?it/s]"
     ]
    },
    {
     "name": "stdout",
     "output_type": "stream",
     "text": [
      "2023-08-08 14:58:53,802 [INFO] Tile:1/2 \n",
      "2023-08-08 14:58:53,803 [INFO] base tile dims :[  -1    2 9989    8 6715]\n",
      "2023-08-08 14:58:53,803 [INFO] target tile info:[   -1    82 10069    88  6795]\n",
      "2023-08-08 14:58:54,089 [WARNING] CPLE_AppDefined in /home/mcadoux/PycharmProjects/Geospatial-COSICorr3D/geoCosiCorr3D_examples/correlation_2D_examples/earthquake_ridgecrest/Corr_sample/m_3511712_sw_11_060_20200620.tif: TIFFReadDirectory:Sum of Photometric type-related color channels and ExtraSamples doesn't match SamplesPerPixel. Defining non-color channels as ExtraSamples.\n"
     ]
    },
    {
     "name": "stderr",
     "output_type": "stream",
     "text": [
      "Warning 1: TIFFReadDirectory:Sum of Photometric type-related color channels and ExtraSamples doesn't match SamplesPerPixel. Defining non-color channels as ExtraSamples.\n"
     ]
    },
    {
     "name": "stdout",
     "output_type": "stream",
     "text": [
      "2023-08-08 14:58:54,367 [INFO] baseSubset.size:(6708, 9988) \n",
      "2023-08-08 14:58:54,368 [INFO] targetSubset.size:(6708, 9988) \n",
      "InputRows:6708, InputColumns:9988\n",
      "WindowSizes(64,64)\n",
      "StepSizes(16,16)\n",
      "SearchRange(10,10)\n",
      "OutputShape(415,620)\n"
     ]
    },
    {
     "name": "stderr",
     "output_type": "stream",
     "text": [
      "\r",
      "Correlation per tile:  50%|███████████▌           | 1/2 [00:41<00:41, 41.41s/it]"
     ]
    },
    {
     "name": "stdout",
     "output_type": "stream",
     "text": [
      "0..20..40..60..80..100% !\n",
      "2023-08-08 14:59:35,215 [INFO] Tile:2/2 \n",
      "2023-08-08 14:59:35,218 [INFO] base tile dims :[   -1     2  9989  6648 12107]\n",
      "2023-08-08 14:59:35,228 [INFO] target tile info:[   -1    82 10069  6728 12187]\n",
      "2023-08-08 14:59:35,508 [WARNING] CPLE_AppDefined in /home/mcadoux/PycharmProjects/Geospatial-COSICorr3D/geoCosiCorr3D_examples/correlation_2D_examples/earthquake_ridgecrest/Corr_sample/m_3511712_sw_11_060_20200620.tif: TIFFReadDirectory:Sum of Photometric type-related color channels and ExtraSamples doesn't match SamplesPerPixel. Defining non-color channels as ExtraSamples.\n"
     ]
    },
    {
     "name": "stderr",
     "output_type": "stream",
     "text": [
      "Warning 1: TIFFReadDirectory:Sum of Photometric type-related color channels and ExtraSamples doesn't match SamplesPerPixel. Defining non-color channels as ExtraSamples.\n"
     ]
    },
    {
     "name": "stdout",
     "output_type": "stream",
     "text": [
      "2023-08-08 14:59:35,759 [INFO] baseSubset.size:(5460, 9988) \n",
      "2023-08-08 14:59:35,760 [INFO] targetSubset.size:(5460, 9988) \n",
      "2023-08-08 14:59:35,761 [INFO] --- LAST TILE ----\n",
      "InputRows:5460, InputColumns:9988\n",
      "WindowSizes(64,64)\n",
      "StepSizes(16,16)\n",
      "SearchRange(10,10)\n",
      "OutputShape(337,620)\n"
     ]
    },
    {
     "name": "stderr",
     "output_type": "stream",
     "text": [
      "Correlation per tile: 100%|███████████████████████| 2/2 [01:14<00:00, 37.14s/it]"
     ]
    },
    {
     "name": "stdout",
     "output_type": "stream",
     "text": [
      "0..20..40..60..80..100% !\n",
      "2023-08-08 15:00:08,082 [INFO] correlation geo. transformation :[443366.4, 9.6, 0, 3963456.0, 0, -9.6]\n"
     ]
    },
    {
     "name": "stderr",
     "output_type": "stream",
     "text": [
      "\n"
     ]
    },
    {
     "name": "stdout",
     "output_type": "stream",
     "text": [
      "2023-08-08 15:00:08,275 [INFO] Correlate: Plotting correlation results\n"
     ]
    },
    {
     "name": "stderr",
     "output_type": "stream",
     "text": [
      "/home/mcadoux/PycharmProjects/Geospatial-COSICorr3D/geoCosiCorr3D/geoImageCorrelation/correlate.py:336: UserWarning: This figure includes Axes that are not compatible with tight_layout, so results might be incorrect.\n",
      "  fig.tight_layout(pad=BORDER_PAD)  ##pad=4, w_pad=5, )\n"
     ]
    }
   ],
   "source": [
    "correlation = Correlate(base_image_path=img1,\n",
    "                        target_image_path=img2,\n",
    "                        base_band=1,\n",
    "                        target_band=1,\n",
    "                        output_corr_path=None,\n",
    "                        corr_config=corr_config,\n",
    "                        corr_show=True)"
   ]
  }
 ],
 "metadata": {
  "kernelspec": {
   "display_name": "Python 3 (ipykernel)",
   "language": "python",
   "name": "python3"
  },
  "language_info": {
   "codemirror_mode": {
    "name": "ipython",
    "version": 3
   },
   "file_extension": ".py",
   "mimetype": "text/x-python",
   "name": "python",
   "nbconvert_exporter": "python",
   "pygments_lexer": "ipython3",
   "version": "3.7.15"
  }
 },
 "nbformat": 4,
 "nbformat_minor": 5
}
